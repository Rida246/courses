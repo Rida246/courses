{
 "cells": [
  {
   "cell_type": "markdown",
   "metadata": {},
   "source": [
    "# Получаю данные с Plaid"
   ]
  },
  {
   "cell_type": "code",
   "execution_count": 1,
   "metadata": {},
   "outputs": [],
   "source": [
    "# Вместо «**» были личные данные с Plaid\n",
    "\n",
    "from plaid import Client\n",
    "\n",
    "client = Client(client_id='**', secret='**', public_key='**', environment='sandbox')"
   ]
  },
  {
   "cell_type": "code",
   "execution_count": null,
   "metadata": {},
   "outputs": [],
   "source": [
    "payload = {\n",
    "  \"public_key\": \"**\",\n",
    "  \"institution_id\": \"ins_1\",\n",
    "  \"initial_products\": ['auth', 'transactions' identity, income, investments, liabilities, and payment_initiation.],\n",
    "  \"options\": {\n",
    "    \"webhook\": \"https://www.genericwebhookurl.com/webhook\"\n",
    "  }\n",
    "}"
   ]
  },
  {
   "cell_type": "code",
   "execution_count": 39,
   "metadata": {},
   "outputs": [
    {
     "name": "stdout",
     "output_type": "stream",
     "text": [
      "{\n",
      "  \"public_token\": \"public-sandbox-86cba0af-60e9-47b9-a365-839bd4fa5ee2\",\n",
      "  \"request_id\": \"UTsjvnYE4ExfQHk\"\n",
      "}\n"
     ]
    }
   ],
   "source": [
    "import http.client\n",
    "import mimetypes\n",
    "conn = http.client.HTTPSConnection(\"sandbox.plaid.com\")\n",
    "payload = \"{\\n  \\\"public_key\\\": \\\"**\\\",\\n  \\\"institution_id\\\": \\\"ins_1\\\",\\n  \\\"initial_products\\\": [\\\"auth\\\" , \\\"transactions\\\" , \\\"assets\\\"],\\n  \\\"options\\\": {\\n    \\\"webhook\\\": \\\"https://www.genericwebhookurl.com/webhook\\\"\\n  }\\n}\"\n",
    "headers = {\n",
    "  'Content-Type': 'application/json',\n",
    "  'User-Agent': 'Plaid Postman'\n",
    "}\n",
    "conn.request(\"POST\", \"/sandbox/public_token/create\", payload, headers)\n",
    "res = conn.getresponse()\n",
    "data = res.read()\n",
    "print(data.decode(\"utf-8\"))"
   ]
  },
  {
   "cell_type": "code",
   "execution_count": 40,
   "metadata": {},
   "outputs": [
    {
     "name": "stdout",
     "output_type": "stream",
     "text": [
      "{\n",
      "  \"access_token\": \"access-sandbox-87913166-8aef-43fc-9200-53bcae58c291\",\n",
      "  \"item_id\": \"voAorBPBv5UwXxQXp1MdFL971rJkwDuWRpEjQ\",\n",
      "  \"request_id\": \"XFjR07hag84MWHW\"\n",
      "}\n"
     ]
    }
   ],
   "source": [
    "import http.client\n",
    "import mimetypes\n",
    "conn = http.client.HTTPSConnection(\"sandbox.plaid.com\")\n",
    "payload = \"{\\n\\t\\\"client_id\\\": \\\"**\\\",\\n\\t\\\"secret\\\": \\\"**\\\",\\n\\t\\\"public_token\\\": \\\"public-sandbox-86cba0af-60e9-47b9-a365-839bd4fa5ee2\\\"\\n}\"\n",
    "headers = {\n",
    "  'Content-Type': 'application/json'\n",
    "}\n",
    "conn.request(\"POST\", \"/item/public_token/exchange\", payload, headers)\n",
    "res = conn.getresponse()\n",
    "data = res.read()\n",
    "print(data.decode(\"utf-8\"))"
   ]
  },
  {
   "cell_type": "code",
   "execution_count": null,
   "metadata": {},
   "outputs": [],
   "source": [
    "import http.client\n",
    "import mimetypes\n",
    "conn = http.client.HTTPSConnection(\"sandbox.plaid.com\")\n",
    "payload = \"{\\n    \\\"institution_id\\\": \\\"ins_1\\\",\\n    \\\"public_key\\\": \\\"808a7d442243bf4fb6bd690da3d607\\\"\\n}\"\n",
    "headers = {\n",
    "  'Content-Type': 'application/json'\n",
    "}\n",
    "conn.request(\"POST\", \"/institutions/get_by_id\", payload, headers)\n",
    "res = conn.getresponse()\n",
    "data = res.read()\n",
    "print(data.decode(\"utf-8\"))"
   ]
  },
  {
   "cell_type": "code",
   "execution_count": 41,
   "metadata": {},
   "outputs": [
    {
     "name": "stdout",
     "output_type": "stream",
     "text": [
      "{\n",
      "  \"asset_report_id\": \"4eb20fde-bbee-499f-bb1e-fb2f29ec0918\",\n",
      "  \"asset_report_token\": \"assets-sandbox-5b70e9fa-962d-4a15-a30f-09f53a0bef9b\",\n",
      "  \"request_id\": \"fSjFixeWESBmozl\"\n",
      "}\n"
     ]
    }
   ],
   "source": [
    "import http.client\n",
    "import mimetypes\n",
    "conn = http.client.HTTPSConnection(\"sandbox.plaid.com\")\n",
    "payload = \"{\\n   \\\"client_id\\\": \\\"**\\\",\\n   \\\"secret\\\": \\\"**\\\",\\n   \\\"access_tokens\\\": [\\\"access-sandbox-87913166-8aef-43fc-9200-53bcae58c291\\\"],\\n   \\\"days_requested\\\": 30,\\n   \\\"options\\\": {\\n      \\\"client_report_id\\\": \\\"example_report_id\\\",\\n      \\\"webhook\\\": \\\"https://www.randomdomain.com/webhook_url\\\",\\n      \\\"user\\\": {\\n        \\\"client_user_id\\\": \\\"example_user_id\\\",\\n        \\\"first_name\\\": \\\"John\\\",\\n        \\\"middle_name\\\": \\\"Deere\\\",\\n        \\\"last_name\\\": \\\"Doe\\\",\\n        \\\"ssn\\\": \\\"123-45-7890\\\",\\n        \\\"phone_number\\\": \\\"3214560987\\\",\\n        \\\"email\\\": \\\"john@doe.com\\\"\\n      }\\n   }\\n }\"\n",
    "headers = {\n",
    "  'Content-Type': 'application/json'\n",
    "}\n",
    "conn.request(\"POST\", \"/asset_report/create\", payload, headers)\n",
    "res = conn.getresponse()\n",
    "data = res.read()\n",
    "print(data.decode(\"utf-8\"))"
   ]
  },
  {
   "cell_type": "code",
   "execution_count": null,
   "metadata": {},
   "outputs": [],
   "source": [
    "#Получаем данные в формате json \n",
    "\n",
    "import http.client\n",
    "import mimetypes\n",
    "conn = http.client.HTTPSConnection(\"sandbox.plaid.com\")\n",
    "payload = \"{\\n   \\\"client_id\\\": \\\"**\\\",\\n   \\\"secret\\\": \\\"**\\\",\\n   \\\"asset_report_token\\\": \\\"assets-sandbox-5b70e9fa-962d-4a15-a30f-09f53a0bef9b\\\"\\n}\"\n",
    "headers = {\n",
    "  'Content-Type': 'application/json'\n",
    "}\n",
    "conn.request(\"POST\", \"/asset_report/get\", payload, headers)\n",
    "res = conn.getresponse()\n",
    "data = res.read()\n",
    "print(data.decode(\"utf-8\"))"
   ]
  },
  {
   "cell_type": "markdown",
   "metadata": {},
   "source": [
    "# Обработка"
   ]
  },
  {
   "cell_type": "code",
   "execution_count": 342,
   "metadata": {},
   "outputs": [],
   "source": [
    "import pandas as pd"
   ]
  },
  {
   "cell_type": "code",
   "execution_count": 343,
   "metadata": {},
   "outputs": [
    {
     "data": {
      "text/plain": [
       "str"
      ]
     },
     "execution_count": 343,
     "metadata": {},
     "output_type": "execute_result"
    }
   ],
   "source": [
    "type(data.decode(\"utf-8\"))"
   ]
  },
  {
   "cell_type": "code",
   "execution_count": 344,
   "metadata": {},
   "outputs": [
    {
     "data": {
      "text/plain": [
       "dict"
      ]
     },
     "execution_count": 344,
     "metadata": {},
     "output_type": "execute_result"
    }
   ],
   "source": [
    "type(json.loads(data.decode(\"utf-8\")))"
   ]
  },
  {
   "cell_type": "code",
   "execution_count": 345,
   "metadata": {},
   "outputs": [],
   "source": [
    "#json.loads(data.decode(\"utf-8\"))[\"report\"][\"items\"][0][\"accounts\"]"
   ]
  },
  {
   "cell_type": "code",
   "execution_count": 346,
   "metadata": {
    "scrolled": true
   },
   "outputs": [],
   "source": [
    "data_save = pd.DataFrame(json.loads(data.decode(\"utf-8\"))[\"report\"][\"items\"][0][\"accounts\"])\n",
    "data_work = data_save.copy()"
   ]
  },
  {
   "cell_type": "code",
   "execution_count": 347,
   "metadata": {},
   "outputs": [],
   "source": [
    "# Сохраняю исходник\n",
    "\n",
    "data_save.to_excel(\"output.xlsx\") "
   ]
  },
  {
   "cell_type": "code",
   "execution_count": 377,
   "metadata": {},
   "outputs": [],
   "source": [
    "# Проверяю на незаполненные значения\n",
    "\n",
    "data_work.isnull().sum()\n",
    "data_work.isna().sum()"
   ]
  },
  {
   "cell_type": "code",
   "execution_count": 375,
   "metadata": {},
   "outputs": [],
   "source": [
    "# Значения nan были в official_name, смотрю что там\n",
    "\n",
    "data_work[data_work.isna()[\"official_name\"]]"
   ]
  },
  {
   "cell_type": "code",
   "execution_count": 379,
   "metadata": {},
   "outputs": [],
   "source": [
    "# Удаляю пользователей у которых нет транзакций\n",
    "\n",
    "data_work.dropna(axis='index', inplace = True)\n",
    "data_work = data_work.reset_index(drop = True)"
   ]
  },
  {
   "cell_type": "code",
   "execution_count": 380,
   "metadata": {},
   "outputs": [],
   "source": [
    "def dict_to_df(dict_data):\n",
    "    columns = list(dict_data[0].keys())\n",
    "    data = []\n",
    "    for i in range(len(dict_data)):\n",
    "        data.append(list(dict_data[i].values()))\n",
    "    df = pd.DataFrame(data = data, columns = columns)\n",
    "    return df"
   ]
  },
  {
   "cell_type": "code",
   "execution_count": 386,
   "metadata": {},
   "outputs": [],
   "source": [
    "# Информация о транзакциях в нужной форме\n",
    "\n",
    "def get_trans_data(data, user_id):\n",
    "    df = dict_to_df(data.loc[user_id][\"transactions\"].copy())\n",
    "    return df.loc[:,[\"account_id\",\"amount\", \"date\", \"original_description\"]]"
   ]
  },
  {
   "cell_type": "code",
   "execution_count": 602,
   "metadata": {},
   "outputs": [],
   "source": [
    "# Создаю таблицы Income и Expense\n",
    "\n",
    "def income_table(trans):\n",
    "    income = trans[trans[\"amount\"] > 0]\n",
    "    total = income.groupby(\"account_id\").sum()\n",
    "    total = total.assign(account_id = ['TOTAL INCOME'])\n",
    "    income = income.append(total, ignore_index=True)\n",
    "    return income\n",
    "\n",
    "def expense_table(trans):\n",
    "    expense = trans[trans[\"amount\"] < 0]\n",
    "    total = expense.groupby(\"account_id\").sum()\n",
    "    total = total.assign(account_id = ['TOTAL EXPENSE'])\n",
    "    expense = expense.append(total, ignore_index=True)\n",
    "    return expense"
   ]
  },
  {
   "cell_type": "code",
   "execution_count": 604,
   "metadata": {},
   "outputs": [],
   "source": [
    "#Объединение таблиц\n",
    "\n",
    "def union_table(data,user_id):\n",
    "    income = income_table(get_trans_data(data, user_id))\n",
    "    expense = expense_table(get_trans_data(data, user_id))\n",
    "    frames = [income, expense]\n",
    "    resullt = pd.concat(frames)\n",
    "    return result"
   ]
  },
  {
   "cell_type": "code",
   "execution_count": 608,
   "metadata": {},
   "outputs": [],
   "source": [
    "# Таблица в нужном формате для отдельного пользователя\n",
    "\n",
    "def create_final_by_user(data, user_id):\n",
    "    total_total = get_trans_data(data, user_id).groupby(\"account_id\").sum()\n",
    "    total_total = total_total.assign(account_id = ['TOTAL'])\n",
    "    income = income_table(get_trans_data(data, user_id))\n",
    "    expense = expense_table(get_trans_data(data, user_id))\n",
    "    frames = [income, expense]\n",
    "    resullt = pd.concat(frames)\n",
    "    resullt = resullt.append(total_total, ignore_index=True)\n",
    "    return resullt"
   ]
  },
  {
   "cell_type": "code",
   "execution_count": 609,
   "metadata": {},
   "outputs": [],
   "source": [
    "# Собираю финальную таблицу\n",
    "\n",
    "def create_final(data):\n",
    "    l = len(data[\"account_id\"])\n",
    "    frames = []\n",
    "    for i in range(len(data[\"account_id\"])):\n",
    "        frames.append(create_final_by_user(data, i))\n",
    "    resullt = pd.concat(frames)\n",
    "    resullt.reset_index(drop = True, inplace=True)\n",
    "    resullt.fillna('-', inplace=True)\n",
    "    return resullt\n",
    "    "
   ]
  },
  {
   "cell_type": "code",
   "execution_count": null,
   "metadata": {},
   "outputs": [],
   "source": [
    "cash_flow = create_final(data_work)"
   ]
  },
  {
   "cell_type": "code",
   "execution_count": 611,
   "metadata": {},
   "outputs": [],
   "source": [
    "cash_flow.to_excel(\"cash_flow.xlsx\")"
   ]
  }
 ],
 "metadata": {
  "kernelspec": {
   "display_name": "Python 3",
   "language": "python",
   "name": "python3"
  },
  "language_info": {
   "codemirror_mode": {
    "name": "ipython",
    "version": 3
   },
   "file_extension": ".py",
   "mimetype": "text/x-python",
   "name": "python",
   "nbconvert_exporter": "python",
   "pygments_lexer": "ipython3",
   "version": "3.7.1"
  }
 },
 "nbformat": 4,
 "nbformat_minor": 4
}
